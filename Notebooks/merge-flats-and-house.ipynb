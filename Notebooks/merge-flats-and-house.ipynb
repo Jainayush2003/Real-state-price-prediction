{
 "cells": [
  {
   "cell_type": "code",
   "execution_count": 11,
   "id": "f6da87c2-b525-4197-842f-848ec063b8f8",
   "metadata": {},
   "outputs": [],
   "source": [
    "import pandas as pd\n",
    "import numpy as np"
   ]
  },
  {
   "cell_type": "code",
   "execution_count": 12,
   "id": "edd5a911-a91d-423f-a464-816b2d0d9f9f",
   "metadata": {},
   "outputs": [],
   "source": [
    "flats = pd.read_csv(\"flats_cleaned.csv\")\n",
    "houses = pd.read_csv(\"house_cleaned.csv\")"
   ]
  },
  {
   "cell_type": "code",
   "execution_count": 13,
   "id": "bdf486db-1363-4e93-bd25-e8370ff4fbfe",
   "metadata": {},
   "outputs": [],
   "source": [
    "df = pd.concat([flats,houses],ignore_index = True)"
   ]
  },
  {
   "cell_type": "code",
   "execution_count": 14,
   "id": "d846643d-e8ac-49af-985f-f9f00e1919c3",
   "metadata": {},
   "outputs": [],
   "source": [
    "df = df.sample(df.shape[0],ignore_index = True)"
   ]
  },
  {
   "cell_type": "code",
   "execution_count": 15,
   "id": "efa4ebf8-185e-40f2-b576-9dd8a502abd0",
   "metadata": {},
   "outputs": [
    {
     "data": {
      "text/html": [
       "<div>\n",
       "<style scoped>\n",
       "    .dataframe tbody tr th:only-of-type {\n",
       "        vertical-align: middle;\n",
       "    }\n",
       "\n",
       "    .dataframe tbody tr th {\n",
       "        vertical-align: top;\n",
       "    }\n",
       "\n",
       "    .dataframe thead th {\n",
       "        text-align: right;\n",
       "    }\n",
       "</style>\n",
       "<table border=\"1\" class=\"dataframe\">\n",
       "  <thead>\n",
       "    <tr style=\"text-align: right;\">\n",
       "      <th></th>\n",
       "      <th>property_name</th>\n",
       "      <th>property_type</th>\n",
       "      <th>society</th>\n",
       "      <th>price</th>\n",
       "      <th>price_per_sqft</th>\n",
       "      <th>area</th>\n",
       "      <th>areaWithType</th>\n",
       "      <th>bedRoom</th>\n",
       "      <th>bathroom</th>\n",
       "      <th>balcony</th>\n",
       "      <th>additionalRoom</th>\n",
       "      <th>address</th>\n",
       "      <th>floorNum</th>\n",
       "      <th>facing</th>\n",
       "      <th>agePossession</th>\n",
       "      <th>nearbyLocations</th>\n",
       "      <th>description</th>\n",
       "      <th>furnishDetails</th>\n",
       "      <th>features</th>\n",
       "      <th>rating</th>\n",
       "    </tr>\n",
       "  </thead>\n",
       "  <tbody>\n",
       "    <tr>\n",
       "      <th>0</th>\n",
       "      <td>5 Bedroom House for sale in Sector 3 Gurgaon</td>\n",
       "      <td>house</td>\n",
       "      <td>independent</td>\n",
       "      <td>0.80</td>\n",
       "      <td>8155.0</td>\n",
       "      <td>981.0</td>\n",
       "      <td>Plot area 109(91.14 sq.m.)</td>\n",
       "      <td>5</td>\n",
       "      <td>4</td>\n",
       "      <td>1</td>\n",
       "      <td>not available</td>\n",
       "      <td>Sector 3 Gurgaon, Gurgaon, Haryana</td>\n",
       "      <td>2.0</td>\n",
       "      <td>NaN</td>\n",
       "      <td>5 to 10 Year Old</td>\n",
       "      <td>['Hanuman Mandir', 'Sharma Hospital Gurgaon', ...</td>\n",
       "      <td>Interested to sell independent house/villa.Pla...</td>\n",
       "      <td>NaN</td>\n",
       "      <td>NaN</td>\n",
       "      <td>['Environment4.5 out of 5', 'Lifestyle4 out of...</td>\n",
       "    </tr>\n",
       "    <tr>\n",
       "      <th>1</th>\n",
       "      <td>4 BHK Flat in Valley View Estate</td>\n",
       "      <td>flat</td>\n",
       "      <td>valley view estate</td>\n",
       "      <td>1.50</td>\n",
       "      <td>8278.0</td>\n",
       "      <td>1812.0</td>\n",
       "      <td>Carpet area: 1812 (168.34 sq.m.)</td>\n",
       "      <td>4</td>\n",
       "      <td>4</td>\n",
       "      <td>3+</td>\n",
       "      <td>study room,servant room,others</td>\n",
       "      <td>Valley View Estate, Gurgaon, Haryana</td>\n",
       "      <td>9.0</td>\n",
       "      <td>North</td>\n",
       "      <td>10+ Year Old</td>\n",
       "      <td>['HANUMAN MANDIR', 'SHIV MANDIR BALIYAWAS', 'I...</td>\n",
       "      <td>Apartment specifications: \\nSize: 1812 sq ft a...</td>\n",
       "      <td>['7 Fan', '1 Exhaust Fan', '20 Light', 'No AC'...</td>\n",
       "      <td>['Security / Fire Alarm', 'Feng Shui / Vaastu ...</td>\n",
       "      <td>['Environment5 out of 5', 'Lifestyle4 out of 5...</td>\n",
       "    </tr>\n",
       "    <tr>\n",
       "      <th>2</th>\n",
       "      <td>2 BHK Flat in Sector 88A Gurgaon</td>\n",
       "      <td>flat</td>\n",
       "      <td>godrej oasis</td>\n",
       "      <td>1.00</td>\n",
       "      <td>6896.0</td>\n",
       "      <td>1450.0</td>\n",
       "      <td>Carpet area: 1450 (134.71 sq.m.)</td>\n",
       "      <td>2</td>\n",
       "      <td>2</td>\n",
       "      <td>3</td>\n",
       "      <td>study room</td>\n",
       "      <td>Sector 88A Gurgaon, Gurgaon, Haryana</td>\n",
       "      <td>7.0</td>\n",
       "      <td>NaN</td>\n",
       "      <td>1 to 5 Year Old</td>\n",
       "      <td>['Double Infinity market', 'Pataudi road', 'Dw...</td>\n",
       "      <td>This beautiful 2 bhk flat in sector-88a gurgao...</td>\n",
       "      <td>NaN</td>\n",
       "      <td>['Security / Fire Alarm', 'Power Back-up', 'Fe...</td>\n",
       "      <td>['Green Area5 out of 5', 'Construction4.5 out ...</td>\n",
       "    </tr>\n",
       "    <tr>\n",
       "      <th>3</th>\n",
       "      <td>4 BHK Flat in Sector 111 Gurgaon</td>\n",
       "      <td>flat</td>\n",
       "      <td>puri diplomatic greens</td>\n",
       "      <td>3.50</td>\n",
       "      <td>11864.0</td>\n",
       "      <td>2950.0</td>\n",
       "      <td>Super Built up area 2950(274.06 sq.m.)Built Up...</td>\n",
       "      <td>4</td>\n",
       "      <td>5</td>\n",
       "      <td>3+</td>\n",
       "      <td>servant room</td>\n",
       "      <td>Sector 111 Gurgaon, Gurgaon, Haryana</td>\n",
       "      <td>10.0</td>\n",
       "      <td>North-East</td>\n",
       "      <td>1 to 5 Year Old</td>\n",
       "      <td>['Dwarka Sector 21 Metro Station', 'Gurgaon Dr...</td>\n",
       "      <td>Looking for a 4 bhk property for sale in gurga...</td>\n",
       "      <td>['4 Wardrobe', '6 Fan', '1 Exhaust Fan', '5 Ge...</td>\n",
       "      <td>['Feng Shui / Vaastu Compliant', 'Security / F...</td>\n",
       "      <td>['Green Area5 out of 5', 'Construction5 out of...</td>\n",
       "    </tr>\n",
       "    <tr>\n",
       "      <th>4</th>\n",
       "      <td>2 BHK Flat in Sector 95A Gurgaon</td>\n",
       "      <td>flat</td>\n",
       "      <td>signature the roselia</td>\n",
       "      <td>0.45</td>\n",
       "      <td>7.0</td>\n",
       "      <td>642857.0</td>\n",
       "      <td>Carpet area: 569243 (52884.41 sq.m.)</td>\n",
       "      <td>2</td>\n",
       "      <td>2</td>\n",
       "      <td>2</td>\n",
       "      <td>not available</td>\n",
       "      <td>Sector 95A Gurgaon, Gurgaon, Haryana</td>\n",
       "      <td>2.0</td>\n",
       "      <td>South-West</td>\n",
       "      <td>0 to 1 Year Old</td>\n",
       "      <td>['Newtown Square Mall', 'Pataudi Road', 'Dwark...</td>\n",
       "      <td>Highly ventilated and trusted builder, spaciou...</td>\n",
       "      <td>NaN</td>\n",
       "      <td>['Security / Fire Alarm', 'Lift(s)', 'Maintena...</td>\n",
       "      <td>['Green Area4 out of 5', 'Amenities4 out of 5'...</td>\n",
       "    </tr>\n",
       "  </tbody>\n",
       "</table>\n",
       "</div>"
      ],
      "text/plain": [
       "                                  property_name property_type  \\\n",
       "0  5 Bedroom House for sale in Sector 3 Gurgaon         house   \n",
       "1              4 BHK Flat in Valley View Estate          flat   \n",
       "2              2 BHK Flat in Sector 88A Gurgaon          flat   \n",
       "3              4 BHK Flat in Sector 111 Gurgaon          flat   \n",
       "4              2 BHK Flat in Sector 95A Gurgaon          flat   \n",
       "\n",
       "                  society  price  price_per_sqft      area  \\\n",
       "0             independent   0.80          8155.0     981.0   \n",
       "1      valley view estate   1.50          8278.0    1812.0   \n",
       "2            godrej oasis   1.00          6896.0    1450.0   \n",
       "3  puri diplomatic greens   3.50         11864.0    2950.0   \n",
       "4   signature the roselia   0.45             7.0  642857.0   \n",
       "\n",
       "                                        areaWithType  bedRoom  bathroom  \\\n",
       "0                         Plot area 109(91.14 sq.m.)        5         4   \n",
       "1                   Carpet area: 1812 (168.34 sq.m.)        4         4   \n",
       "2                   Carpet area: 1450 (134.71 sq.m.)        2         2   \n",
       "3  Super Built up area 2950(274.06 sq.m.)Built Up...        4         5   \n",
       "4               Carpet area: 569243 (52884.41 sq.m.)        2         2   \n",
       "\n",
       "  balcony                  additionalRoom  \\\n",
       "0       1                   not available   \n",
       "1      3+  study room,servant room,others   \n",
       "2       3                      study room   \n",
       "3      3+                    servant room   \n",
       "4       2                   not available   \n",
       "\n",
       "                                address  floorNum      facing  \\\n",
       "0    Sector 3 Gurgaon, Gurgaon, Haryana       2.0         NaN   \n",
       "1  Valley View Estate, Gurgaon, Haryana       9.0       North   \n",
       "2  Sector 88A Gurgaon, Gurgaon, Haryana       7.0         NaN   \n",
       "3  Sector 111 Gurgaon, Gurgaon, Haryana      10.0  North-East   \n",
       "4  Sector 95A Gurgaon, Gurgaon, Haryana       2.0  South-West   \n",
       "\n",
       "      agePossession                                    nearbyLocations  \\\n",
       "0  5 to 10 Year Old  ['Hanuman Mandir', 'Sharma Hospital Gurgaon', ...   \n",
       "1      10+ Year Old  ['HANUMAN MANDIR', 'SHIV MANDIR BALIYAWAS', 'I...   \n",
       "2   1 to 5 Year Old  ['Double Infinity market', 'Pataudi road', 'Dw...   \n",
       "3   1 to 5 Year Old  ['Dwarka Sector 21 Metro Station', 'Gurgaon Dr...   \n",
       "4   0 to 1 Year Old  ['Newtown Square Mall', 'Pataudi Road', 'Dwark...   \n",
       "\n",
       "                                         description  \\\n",
       "0  Interested to sell independent house/villa.Pla...   \n",
       "1  Apartment specifications: \\nSize: 1812 sq ft a...   \n",
       "2  This beautiful 2 bhk flat in sector-88a gurgao...   \n",
       "3  Looking for a 4 bhk property for sale in gurga...   \n",
       "4  Highly ventilated and trusted builder, spaciou...   \n",
       "\n",
       "                                      furnishDetails  \\\n",
       "0                                                NaN   \n",
       "1  ['7 Fan', '1 Exhaust Fan', '20 Light', 'No AC'...   \n",
       "2                                                NaN   \n",
       "3  ['4 Wardrobe', '6 Fan', '1 Exhaust Fan', '5 Ge...   \n",
       "4                                                NaN   \n",
       "\n",
       "                                            features  \\\n",
       "0                                                NaN   \n",
       "1  ['Security / Fire Alarm', 'Feng Shui / Vaastu ...   \n",
       "2  ['Security / Fire Alarm', 'Power Back-up', 'Fe...   \n",
       "3  ['Feng Shui / Vaastu Compliant', 'Security / F...   \n",
       "4  ['Security / Fire Alarm', 'Lift(s)', 'Maintena...   \n",
       "\n",
       "                                              rating  \n",
       "0  ['Environment4.5 out of 5', 'Lifestyle4 out of...  \n",
       "1  ['Environment5 out of 5', 'Lifestyle4 out of 5...  \n",
       "2  ['Green Area5 out of 5', 'Construction4.5 out ...  \n",
       "3  ['Green Area5 out of 5', 'Construction5 out of...  \n",
       "4  ['Green Area4 out of 5', 'Amenities4 out of 5'...  "
      ]
     },
     "execution_count": 15,
     "metadata": {},
     "output_type": "execute_result"
    }
   ],
   "source": [
    "df.head()"
   ]
  },
  {
   "cell_type": "code",
   "execution_count": 6,
   "id": "be69ceb6-a694-4a0e-9247-3824fdf4b25b",
   "metadata": {},
   "outputs": [
    {
     "data": {
      "text/plain": [
       "Index(['property_name', 'society', 'price', 'price_per_sqft', 'area',\n",
       "       'areaWithType', 'bedRoom', 'bathroom', 'balcony', 'additionalRoom',\n",
       "       'address', 'floorNum', 'facing', 'agePossession', 'nearbyLocations',\n",
       "       'description', 'furnishDetails', 'features', 'rating', 'property_type'],\n",
       "      dtype='object')"
      ]
     },
     "execution_count": 6,
     "metadata": {},
     "output_type": "execute_result"
    }
   ],
   "source": [
    "df.columns"
   ]
  },
  {
   "cell_type": "code",
   "execution_count": 7,
   "id": "db55d419-57fe-48f6-b65d-c7296644753e",
   "metadata": {},
   "outputs": [
    {
     "name": "stdout",
     "output_type": "stream",
     "text": [
      "<class 'pandas.core.frame.DataFrame'>\n",
      "RangeIndex: 3961 entries, 0 to 3960\n",
      "Data columns (total 20 columns):\n",
      " #   Column           Non-Null Count  Dtype  \n",
      "---  ------           --------------  -----  \n",
      " 0   property_name    3961 non-null   object \n",
      " 1   society          3960 non-null   object \n",
      " 2   price            3941 non-null   float64\n",
      " 3   price_per_sqft   3941 non-null   float64\n",
      " 4   area             3941 non-null   float64\n",
      " 5   areaWithType     3961 non-null   object \n",
      " 6   bedRoom          3961 non-null   int64  \n",
      " 7   bathroom         3961 non-null   int64  \n",
      " 8   balcony          3961 non-null   object \n",
      " 9   additionalRoom   3961 non-null   object \n",
      " 10  address          3950 non-null   object \n",
      " 11  floorNum         3937 non-null   float64\n",
      " 12  facing           2784 non-null   object \n",
      " 13  agePossession    3960 non-null   object \n",
      " 14  nearbyLocations  3754 non-null   object \n",
      " 15  description      3961 non-null   object \n",
      " 16  furnishDetails   2929 non-null   object \n",
      " 17  features         3252 non-null   object \n",
      " 18  rating           3511 non-null   object \n",
      " 19  property_type    964 non-null    object \n",
      "dtypes: float64(4), int64(2), object(14)\n",
      "memory usage: 619.0+ KB\n"
     ]
    }
   ],
   "source": [
    "df.info()"
   ]
  },
  {
   "cell_type": "code",
   "execution_count": 8,
   "id": "316124e9-00af-4462-b3c1-0338b603bdda",
   "metadata": {},
   "outputs": [
    {
     "data": {
      "text/plain": [
       "(3961, 20)"
      ]
     },
     "execution_count": 8,
     "metadata": {},
     "output_type": "execute_result"
    }
   ],
   "source": [
    "df.shape"
   ]
  },
  {
   "cell_type": "code",
   "execution_count": 16,
   "id": "dc8ce744-1685-48f7-80ba-38b638a8bd4f",
   "metadata": {},
   "outputs": [],
   "source": [
    "df.to_csv('gurgaon_properties.csv',index=False)"
   ]
  },
  {
   "cell_type": "code",
   "execution_count": null,
   "id": "d05161ba-48c8-441e-83e9-da6bae687a0e",
   "metadata": {},
   "outputs": [],
   "source": []
  },
  {
   "cell_type": "code",
   "execution_count": null,
   "id": "efb5dc59-22fd-4ad0-b97f-668b6727c599",
   "metadata": {},
   "outputs": [],
   "source": []
  },
  {
   "cell_type": "code",
   "execution_count": null,
   "id": "7c6df43c-a4f1-495f-a897-2c2c037dbfa5",
   "metadata": {},
   "outputs": [],
   "source": []
  },
  {
   "cell_type": "code",
   "execution_count": null,
   "id": "a1496e58-91d2-464c-97bf-e960e4ee80fe",
   "metadata": {},
   "outputs": [],
   "source": []
  },
  {
   "cell_type": "code",
   "execution_count": null,
   "id": "f008e6f1-fe9c-416c-8b47-8d5623d53a2c",
   "metadata": {},
   "outputs": [],
   "source": []
  },
  {
   "cell_type": "code",
   "execution_count": null,
   "id": "a075295f-656a-4b62-92d3-17d6b3cc9aaf",
   "metadata": {},
   "outputs": [],
   "source": []
  },
  {
   "cell_type": "code",
   "execution_count": null,
   "id": "3d2989ed-7adc-45d4-96a9-2aa5679f9309",
   "metadata": {},
   "outputs": [],
   "source": []
  },
  {
   "cell_type": "code",
   "execution_count": null,
   "id": "92930a7a-7a02-45f9-8fd7-6e83905c0c68",
   "metadata": {},
   "outputs": [],
   "source": []
  },
  {
   "cell_type": "code",
   "execution_count": null,
   "id": "c6ec4928-9b5e-48ed-be77-444c2bbba402",
   "metadata": {},
   "outputs": [],
   "source": []
  }
 ],
 "metadata": {
  "kernelspec": {
   "display_name": "Python 3 (ipykernel)",
   "language": "python",
   "name": "python3"
  },
  "language_info": {
   "codemirror_mode": {
    "name": "ipython",
    "version": 3
   },
   "file_extension": ".py",
   "mimetype": "text/x-python",
   "name": "python",
   "nbconvert_exporter": "python",
   "pygments_lexer": "ipython3",
   "version": "3.10.9"
  }
 },
 "nbformat": 4,
 "nbformat_minor": 5
}
